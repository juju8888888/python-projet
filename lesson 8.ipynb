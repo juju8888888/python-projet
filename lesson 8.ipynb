{
  "nbformat": 4,
  "nbformat_minor": 0,
  "metadata": {
    "colab": {
      "provenance": [],
      "authorship_tag": "ABX9TyMSGXC7IZMCdKlydLQ6kI8h",
      "include_colab_link": true
    },
    "kernelspec": {
      "name": "python3",
      "display_name": "Python 3"
    },
    "language_info": {
      "name": "python"
    }
  },
  "cells": [
    {
      "cell_type": "markdown",
      "metadata": {
        "id": "view-in-github",
        "colab_type": "text"
      },
      "source": [
        "<a href=\"https://colab.research.google.com/github/Romane-lrnt/GitConcepts/blob/main/Cours8.ipynb\" target=\"_parent\"><img src=\"https://colab.research.google.com/assets/colab-badge.svg\" alt=\"Open In Colab\"/></a>"
      ]
    },
    {
      "cell_type": "code",
      "execution_count": null,
      "metadata": {
        "colab": {
          "base_uri": "https://localhost:8080/"
        },
        "id": "9GqNqA7V9ZDF",
        "outputId": "87cce6dd-307b-47be-d963-61204d5d2d5e"
      },
      "outputs": [
        {
          "output_type": "stream",
          "name": "stdout",
          "text": [
            "{'United States': 'Washington DC', 'Italy': 'Rome', 'England': 'London'}\n"
          ]
        }
      ],
      "source": [
        "#creating a dictionnary\n",
        "country_capitals={\n",
        "    \"United States\": \"Washington DC\",\n",
        "    \"Italy\": \"Rome\",\n",
        "    \"England\": \"London\"\n",
        "}\n",
        "#printing the dictionnary\n",
        "print(country_capitals)"
      ]
    },
    {
      "cell_type": "code",
      "source": [
        "my_dict={1:\"Hello\", (1,2):\"Hello Hi\", 3:[1, 2, 3]}\n",
        "print(my_dict)"
      ],
      "metadata": {
        "colab": {
          "base_uri": "https://localhost:8080/"
        },
        "id": "c5Vg0ssp_Xb-",
        "outputId": "e980edd4-f741-46af-b31f-b49cb41d1b4f"
      },
      "execution_count": null,
      "outputs": [
        {
          "output_type": "stream",
          "name": "stdout",
          "text": [
            "{1: 'Hello', (1, 2): 'Hello Hi', 3: [1, 2, 3]}\n"
          ]
        }
      ]
    },
    {
      "cell_type": "code",
      "source": [
        "print(len(country_capitals))"
      ],
      "metadata": {
        "colab": {
          "base_uri": "https://localhost:8080/"
        },
        "id": "Ca3LusqTA2tC",
        "outputId": "256a7423-6181-4917-f3f0-f445c15bc0d1"
      },
      "execution_count": null,
      "outputs": [
        {
          "output_type": "stream",
          "name": "stdout",
          "text": [
            "3\n"
          ]
        }
      ]
    },
    {
      "cell_type": "code",
      "source": [
        "#nested dictionary\n",
        "Dict={1: 'Geeks', 2: 'For',\n",
        "      3: {'A': 'Welcome', 'B': 'To', 'C': 'Geeks'}}\n",
        "print(Dict)"
      ],
      "metadata": {
        "colab": {
          "base_uri": "https://localhost:8080/"
        },
        "id": "QWD-85yWBbWJ",
        "outputId": "abad6fc4-ee0a-46d6-de0c-3227f19c709c"
      },
      "execution_count": null,
      "outputs": [
        {
          "output_type": "stream",
          "name": "stdout",
          "text": [
            "{1: 'Geeks', 2: 'For', 3: {'A': 'Welcome', 'B': 'To', 'C': 'Geeks'}}\n"
          ]
        }
      ]
    },
    {
      "cell_type": "code",
      "source": [
        "print(country_capitals[\"United States\"])\n",
        "print(country_capitals[\"England\"])"
      ],
      "metadata": {
        "colab": {
          "base_uri": "https://localhost:8080/"
        },
        "id": "Obhbj1OtBbL9",
        "outputId": "8bd58d71-a8b3-461a-fa88-32a172c5ff67"
      },
      "execution_count": null,
      "outputs": [
        {
          "output_type": "stream",
          "name": "stdout",
          "text": [
            "Washington DC\n",
            "London\n"
          ]
        }
      ]
    },
    {
      "cell_type": "code",
      "source": [
        "print(Dict[3]['A'])"
      ],
      "metadata": {
        "colab": {
          "base_uri": "https://localhost:8080/"
        },
        "id": "gRXpVa7rBbBp",
        "outputId": "91d49b7f-fdf3-4f05-d700-a6c11e2e7d01"
      },
      "execution_count": null,
      "outputs": [
        {
          "output_type": "stream",
          "name": "stdout",
          "text": [
            "Welcome\n"
          ]
        }
      ]
    },
    {
      "cell_type": "code",
      "source": [
        "country_capitals={\n",
        "    \"United States\": \"Washington DC\",\n",
        "    \"Italy\": \"Naples\",\n",
        "    \"England\": \"London\"\n",
        "}\n",
        "print(country_capitals)\n",
        "country_capitals[\"Italy\"]=\"Rome\" #change the value of \"Italy\" key to \"Rome\"\n",
        "print(country_capitals)"
      ],
      "metadata": {
        "colab": {
          "base_uri": "https://localhost:8080/"
        },
        "id": "qKUCQGxvBa4c",
        "outputId": "02f72a3e-842a-41f9-c7f1-6a854c905c92"
      },
      "execution_count": null,
      "outputs": [
        {
          "output_type": "stream",
          "name": "stdout",
          "text": [
            "{'United States': 'Washington DC', 'Italy': 'Naples', 'England': 'London'}\n",
            "{'United States': 'Washington DC', 'Italy': 'Rome', 'England': 'London'}\n"
          ]
        }
      ]
    },
    {
      "cell_type": "code",
      "source": [
        "country_capitals[\"Germany\"]=\"Berlin\" #add a key and its value\n",
        "print(country_capitals)"
      ],
      "metadata": {
        "colab": {
          "base_uri": "https://localhost:8080/"
        },
        "id": "f1_VfNNUBarr",
        "outputId": "bdc8e3e4-6d92-4cd6-f244-f0dfaac46e2f"
      },
      "execution_count": null,
      "outputs": [
        {
          "output_type": "stream",
          "name": "stdout",
          "text": [
            "{'United States': 'Washington DC', 'Italy': 'Rome', 'England': 'London', 'Germany': 'Berlin'}\n"
          ]
        }
      ]
    },
    {
      "cell_type": "code",
      "source": [
        "del country_capitals[\"United States\"] #delete item having \"United States\" key\n",
        "print(country_capitals)"
      ],
      "metadata": {
        "colab": {
          "base_uri": "https://localhost:8080/"
        },
        "id": "D2mL8brkHuWn",
        "outputId": "925eb33b-7748-4f59-ea28-62d6e652a938"
      },
      "execution_count": null,
      "outputs": [
        {
          "output_type": "stream",
          "name": "stdout",
          "text": [
            "{'Italy': 'Rome', 'England': 'London', 'Germany': 'Berlin'}\n"
          ]
        }
      ]
    },
    {
      "cell_type": "code",
      "source": [
        "my_list={1: \"Hello\", \"Hi\": 25, \"Howdy\": 100}\n",
        "print(1 in my_list) #True\n",
        "\n",
        "#the not in opertaor checks whether key doesn't exist\n",
        "print(\"Howdy\" not in my_list) #False\n",
        "print(\"Hello\" in my_list) #False"
      ],
      "metadata": {
        "colab": {
          "base_uri": "https://localhost:8080/"
        },
        "id": "3RmTORloJ3eC",
        "outputId": "df0c70d1-fae9-46f5-c5d8-2cf13d6935a3"
      },
      "execution_count": null,
      "outputs": [
        {
          "output_type": "stream",
          "name": "stdout",
          "text": [
            "True\n",
            "False\n",
            "False\n"
          ]
        }
      ]
    },
    {
      "cell_type": "code",
      "source": [
        "for country in country_capitals:\n",
        "  capital=country_capitals[country]\n",
        "  print(capital)"
      ],
      "metadata": {
        "colab": {
          "base_uri": "https://localhost:8080/"
        },
        "id": "CbcVamevLG1q",
        "outputId": "b9749550-4ed3-4205-e097-9542f8b9b910"
      },
      "execution_count": null,
      "outputs": [
        {
          "output_type": "stream",
          "name": "stdout",
          "text": [
            "Rome\n",
            "London\n",
            "Berlin\n"
          ]
        }
      ]
    },
    {
      "cell_type": "code",
      "source": [
        "for keys,values in country_capitals.items():\n",
        "  print(keys)\n",
        "  print(values)"
      ],
      "metadata": {
        "colab": {
          "base_uri": "https://localhost:8080/"
        },
        "id": "AIGizQ1EMcKf",
        "outputId": "a6097fdf-32ee-4e28-de43-5f2cb9e93050"
      },
      "execution_count": null,
      "outputs": [
        {
          "output_type": "stream",
          "name": "stdout",
          "text": [
            "Italy\n",
            "Rome\n",
            "England\n",
            "London\n",
            "Germany\n",
            "Berlin\n"
          ]
        }
      ]
    },
    {
      "cell_type": "code",
      "source": [
        "dict1={1:\"Python\", 2:\"Java\", 3:\"Ruby\", 4:\"Scala\"}\n",
        "dict2=dict1.copy()\n",
        "print(dict2)\n",
        "dict1.clear()\n",
        "print(dict1)\n",
        "print(dict2.get(1))\n",
        "print(dict2.keys())\n",
        "dict2.pop(4)\n",
        "print(dict2)\n",
        "dict2.popitem()\n",
        "print(dict2)\n",
        "dict2.update({3: \"Scala\"})\n",
        "print(dict2)"
      ],
      "metadata": {
        "colab": {
          "base_uri": "https://localhost:8080/"
        },
        "id": "VgsRaRoJMpMS",
        "outputId": "3d023953-d3aa-427b-f819-9c0003ce9487"
      },
      "execution_count": null,
      "outputs": [
        {
          "output_type": "stream",
          "name": "stdout",
          "text": [
            "{1: 'Python', 2: 'Java', 3: 'Ruby', 4: 'Scala'}\n",
            "{}\n",
            "Python\n",
            "dict_keys([1, 2, 3, 4])\n",
            "{1: 'Python', 2: 'Java', 3: 'Ruby'}\n",
            "{1: 'Python', 2: 'Java'}\n",
            "{1: 'Python', 2: 'Java', 3: 'Scala'}\n"
          ]
        }
      ]
    },
    {
      "cell_type": "code",
      "source": [
        "cities=('Paris', 'Athens', 'Madrid') #create a sequence of strings\n",
        "continent='Europe' #create a single value\n",
        "my_dictionary=dict.fromkeys(cities, continent)\n",
        "print(my_dictionary)"
      ],
      "metadata": {
        "colab": {
          "base_uri": "https://localhost:8080/"
        },
        "id": "oW1Gx-McMpA6",
        "outputId": "45edc364-bfa5-49f8-fecb-39ff361a2090"
      },
      "execution_count": null,
      "outputs": [
        {
          "output_type": "stream",
          "name": "stdout",
          "text": [
            "{'Paris': 'Europe', 'Athens': 'Europe', 'Madrid': 'Europe'}\n"
          ]
        }
      ]
    },
    {
      "cell_type": "code",
      "source": [
        "country=['France', 'Greece', 'Spain']\n",
        "mdict=dict.fromkeys(cities,country)\n",
        "print(mdict)"
      ],
      "metadata": {
        "colab": {
          "base_uri": "https://localhost:8080/"
        },
        "id": "VhJtRMUxMo3x",
        "outputId": "c19f1dab-57da-4ba9-e152-d65bdc768f31"
      },
      "execution_count": null,
      "outputs": [
        {
          "output_type": "stream",
          "name": "stdout",
          "text": [
            "{'Paris': ['France', 'Greece', 'Spain'], 'Athens': ['France', 'Greece', 'Spain'], 'Madrid': ['France', 'Greece', 'Spain']}\n"
          ]
        }
      ]
    },
    {
      "cell_type": "code",
      "source": [
        "keys=['Ten', 'Twenty', 'Thirty']\n",
        "values=[10, 20, 30]\n",
        "d=dict(zip(keys, values))\n",
        "print(d)"
      ],
      "metadata": {
        "colab": {
          "base_uri": "https://localhost:8080/"
        },
        "id": "6UU8ic1BX8ll",
        "outputId": "2c1e9a13-659b-4e5c-e4c0-61e2f3e19036"
      },
      "execution_count": null,
      "outputs": [
        {
          "output_type": "stream",
          "name": "stdout",
          "text": [
            "{'Ten': 10, 'Twenty': 20, 'Thirty': 30}\n"
          ]
        }
      ]
    },
    {
      "cell_type": "code",
      "source": [
        "dict1={'Ten': 10, 'Twenty':20, 'Thirty': 30}\n",
        "dict2={'Thirty': 30, 'Forty': 40, 'Fifty': 50}\n",
        "dict3=dict1.copy()\n",
        "dict3.update(dict2)\n",
        "print(dict3)"
      ],
      "metadata": {
        "colab": {
          "base_uri": "https://localhost:8080/"
        },
        "id": "LHMCuiOzYU4l",
        "outputId": "75a06010-7f91-4c7f-caac-144dd87063e1"
      },
      "execution_count": null,
      "outputs": [
        {
          "output_type": "stream",
          "name": "stdout",
          "text": [
            "{'Ten': 10, 'Twenty': 20, 'Thirty': 30, 'Forty': 40, 'Fifty': 50}\n"
          ]
        }
      ]
    },
    {
      "cell_type": "code",
      "source": [
        "sampleDict={\n",
        "    \"class\": {\n",
        "        \"student\": {\n",
        "            \"name\": \"Mike\",\n",
        "            \"marks\": {\n",
        "                \"physics\": 70,\n",
        "                \"history\": 80\n",
        "            }\n",
        "        }\n",
        "    }\n",
        "}\n",
        "print(sampleDict[\"class\"][\"student\"][\"marks\"][\"history\"])"
      ],
      "metadata": {
        "colab": {
          "base_uri": "https://localhost:8080/"
        },
        "id": "ZdRMzXQOYUv5",
        "outputId": "c1d1efa3-1b6f-4663-fd36-9b7ce635665d"
      },
      "execution_count": null,
      "outputs": [
        {
          "output_type": "stream",
          "name": "stdout",
          "text": [
            "80\n"
          ]
        }
      ]
    },
    {
      "cell_type": "code",
      "source": [
        "employees=['Kelly', 'Emma']\n",
        "defaults={\"designation\": 'Developer', \"salary\": 8000}\n",
        "dict1=dict.fromkeys(employees, defaults)\n",
        "print(dict1)\n",
        "print(dict1[\"Kelly\"])"
      ],
      "metadata": {
        "colab": {
          "base_uri": "https://localhost:8080/"
        },
        "id": "zDfFsiN5YUnv",
        "outputId": "7ac34396-21a0-4568-e5bd-aacdd6cb9baf"
      },
      "execution_count": null,
      "outputs": [
        {
          "output_type": "stream",
          "name": "stdout",
          "text": [
            "{'Kelly': {'designation': 'Developer', 'salary': 8000}, 'Emma': {'designation': 'Developer', 'salary': 8000}}\n",
            "{'designation': 'Developer', 'salary': 8000}\n"
          ]
        }
      ]
    },
    {
      "cell_type": "code",
      "source": [
        "sample_dict={\n",
        "    \"name\": \"Kelly\",\n",
        "    \"age\":25,\n",
        "    \"salary\": 8000,\n",
        "    \"city\": \"New York\"\n",
        "}\n",
        "sample_dict.pop(\"name\")\n",
        "sample_dict.pop(\"salary\")\n",
        "print(sample_dict)"
      ],
      "metadata": {
        "colab": {
          "base_uri": "https://localhost:8080/"
        },
        "id": "03VDFnT5YUg5",
        "outputId": "e770b8cb-8930-4ccd-9dfe-01df7f365432"
      },
      "execution_count": null,
      "outputs": [
        {
          "output_type": "stream",
          "name": "stdout",
          "text": [
            "{'age': 25, 'city': 'New York'}\n"
          ]
        }
      ]
    },
    {
      "cell_type": "code",
      "source": [
        "sam={'a':100, 'b':200, 'c':300}\n",
        "if 200 in sam.values():\n",
        "  print(\"200 present in the dict\")"
      ],
      "metadata": {
        "colab": {
          "base_uri": "https://localhost:8080/"
        },
        "id": "zBGoZ5kefXcG",
        "outputId": "f2a4fa5b-3351-40d5-d982-c31275e0ec02"
      },
      "execution_count": null,
      "outputs": [
        {
          "output_type": "stream",
          "name": "stdout",
          "text": [
            "200 present in the dict\n"
          ]
        }
      ]
    },
    {
      "cell_type": "code",
      "source": [
        "sample_dict={\n",
        "    'emp1': {'name': 'John', 'salary': 7500},\n",
        "    'emp2': {'name': 'Emma', 'salary': 8000},\n",
        "    'emp3': {'name': 'Brad', 'salary': 500},\n",
        "}\n",
        "sample_dict['emp3']['salary']=8500\n",
        "print(sample_dict)"
      ],
      "metadata": {
        "colab": {
          "base_uri": "https://localhost:8080/"
        },
        "id": "IaT0-tywgkP_",
        "outputId": "91b96f87-e91d-42a4-8d6b-51caa1220ee6"
      },
      "execution_count": null,
      "outputs": [
        {
          "output_type": "stream",
          "name": "stdout",
          "text": [
            "{'emp1': {'name': 'John', 'salary': 7500}, 'emp2': {'name': 'Emma', 'salary': 8000}, 'emp3': {'name': 'Brad', 'salary': 8500}}\n"
          ]
        }
      ]
    }
  ]
}