{
  "nbformat": 4,
  "nbformat_minor": 0,
  "metadata": {
    "colab": {
      "provenance": [],
      "toc_visible": true,
      "authorship_tag": "ABX9TyOOYJoKmJz40kjVBIC7I05e",
      "include_colab_link": true
    },
    "kernelspec": {
      "name": "python3",
      "display_name": "Python 3"
    },
    "language_info": {
      "name": "python"
    }
  },
  "cells": [
    {
      "cell_type": "markdown",
      "metadata": {
        "id": "view-in-github",
        "colab_type": "text"
      },
      "source": [
        "<a href=\"https://colab.research.google.com/github/Romane-lrnt/GitConcepts/blob/main/Cours13.ipynb\" target=\"_parent\"><img src=\"https://colab.research.google.com/assets/colab-badge.svg\" alt=\"Open In Colab\"/></a>"
      ]
    },
    {
      "cell_type": "code",
      "execution_count": null,
      "metadata": {
        "id": "9eFfj_v8ipBg"
      },
      "outputs": [],
      "source": [
        "import pandas as pd\n",
        "name='names.txt'\n",
        "variable=open(name)"
      ]
    },
    {
      "cell_type": "code",
      "source": [
        "f_name=open('names.txt')\n",
        "for name in f_name:\n",
        "  print(\"Hello {}\".format(name))"
      ],
      "metadata": {
        "colab": {
          "base_uri": "https://localhost:8080/"
        },
        "id": "uaw3ZE7asHGA",
        "outputId": "1f9f3d36-e03a-43c4-9b05-50d88b5e4c15"
      },
      "execution_count": null,
      "outputs": [
        {
          "output_type": "stream",
          "name": "stdout",
          "text": [
            "Hello John\n",
            "\n",
            "Hello Connor\n",
            "\n",
            "Hello Aoife\n",
            "\n",
            "Hello Anna\n",
            "\n",
            "Hello Sam\n"
          ]
        }
      ]
    },
    {
      "cell_type": "code",
      "source": [
        "f_name=open('names.txt')\n",
        "for name in f_name:\n",
        "  name=name.strip()\n",
        "  print(\"Hello {}\".format(name))"
      ],
      "metadata": {
        "colab": {
          "base_uri": "https://localhost:8080/"
        },
        "id": "qtG1fTB2t1_M",
        "outputId": "e0fd34de-1f57-4ea7-813e-45a5964f2d03"
      },
      "execution_count": null,
      "outputs": [
        {
          "output_type": "stream",
          "name": "stdout",
          "text": [
            "Hello John\n",
            "Hello Connor\n",
            "Hello Aoife\n",
            "Hello Anna\n",
            "Hello Sam\n"
          ]
        }
      ]
    },
    {
      "cell_type": "code",
      "source": [
        "f_name=open('names.txt')\n",
        "for name in f_name:\n",
        "  if \"a\" in name:\n",
        "    name=name.strip()\n",
        "    print(\"Hello {}\".format(name))"
      ],
      "metadata": {
        "colab": {
          "base_uri": "https://localhost:8080/"
        },
        "id": "rcDkQWOlwQVu",
        "outputId": "1766bfd2-46aa-40f0-840b-bce856ee176d"
      },
      "execution_count": null,
      "outputs": [
        {
          "output_type": "stream",
          "name": "stdout",
          "text": [
            "Hello Anna\n",
            "Hello Sam\n"
          ]
        }
      ]
    },
    {
      "cell_type": "code",
      "source": [
        "#The Basics\n",
        "#f=open('text.txt', 'r') #reading\n",
        "f=open('text.txt', 'w') #writing\n",
        "#f=open('text.txt', 'a') #appending\n",
        "#f=open('text.txt', 'r+') #reading and writing\n",
        "print(f.mode)\n",
        "#f.close()"
      ],
      "metadata": {
        "colab": {
          "base_uri": "https://localhost:8080/"
        },
        "id": "KE-1uiU3w9Rt",
        "outputId": "bb53cf60-9b04-44e6-cc78-d2492a7409b1"
      },
      "execution_count": null,
      "outputs": [
        {
          "output_type": "stream",
          "name": "stdout",
          "text": [
            "w\n"
          ]
        }
      ]
    },
    {
      "cell_type": "code",
      "source": [
        "with open('text.txt', \"r\") as f:\n",
        "  #Small files:\n",
        "  f_contents=f.read()\n",
        "  print(f_contents)"
      ],
      "metadata": {
        "colab": {
          "base_uri": "https://localhost:8080/"
        },
        "id": "vxPFyH1E0aYS",
        "outputId": "cb4f1493-1cc7-4574-a0ea-ff28a32634fd"
      },
      "execution_count": null,
      "outputs": [
        {
          "output_type": "stream",
          "name": "stdout",
          "text": [
            "bkjgj\n"
          ]
        }
      ]
    },
    {
      "cell_type": "code",
      "source": [
        "with open('text.txt', \"r\") as f:\n",
        "  #Big files:\n",
        "  f_contents=f.readlines()\n",
        "  print(f_contents)"
      ],
      "metadata": {
        "colab": {
          "base_uri": "https://localhost:8080/"
        },
        "id": "o7CODZYZ3gxl",
        "outputId": "3be59077-1032-42e3-ced1-a816ff23cc5e"
      },
      "execution_count": null,
      "outputs": [
        {
          "output_type": "stream",
          "name": "stdout",
          "text": [
            "['bkjgj\\n', 'kjhbjg\\n', 'kjhbjg\\n', 'iugujydt\\n', 'uyjhfyt']\n"
          ]
        }
      ]
    },
    {
      "cell_type": "code",
      "source": [
        "with open('text.txt', \"r\") as f:\n",
        "  f_contents=f.readline()\n",
        "  print(f_contents, end='')\n",
        "  f_contents=f.readline()\n",
        "  print(f_contents, end='')"
      ],
      "metadata": {
        "colab": {
          "base_uri": "https://localhost:8080/"
        },
        "id": "L7RkvnEy3oH1",
        "outputId": "f98d56f0-f84d-46e3-a846-0b1abf968092"
      },
      "execution_count": null,
      "outputs": [
        {
          "output_type": "stream",
          "name": "stdout",
          "text": [
            "bkjgj\n",
            "kjhbjg\n"
          ]
        }
      ]
    },
    {
      "cell_type": "code",
      "source": [
        "with open('text4.txt', \"w\") as f:\n",
        "  f.write(\"Test\")\n",
        "  f.seek(0)\n",
        "  f.write(\"R\")"
      ],
      "metadata": {
        "id": "v77L_E9q6Dwl"
      },
      "execution_count": null,
      "outputs": []
    },
    {
      "cell_type": "code",
      "source": [
        "with open('text4.txt', \"w\") as f:\n",
        "  f.write(\"hello world\")\n",
        "  f.seek(5)\n",
        "  f.write(\"--\")"
      ],
      "metadata": {
        "id": "06qKJeL_AaDQ"
      },
      "execution_count": null,
      "outputs": []
    },
    {
      "cell_type": "code",
      "source": [
        "with open('text2.txt', \"w\") as f:\n",
        "  val='names'\n",
        "  val1='10'\n",
        "  val2='niamh'\n",
        "  f.write(val+'\\n'+val1+'\\n'+val2)\n",
        "  f.seek(0)\n",
        "  f.write(\"Test\")\n",
        "  f.seek(6)\n",
        "  f.write(\"z\")"
      ],
      "metadata": {
        "id": "YZN6jwikAzAA"
      },
      "execution_count": null,
      "outputs": []
    },
    {
      "cell_type": "code",
      "source": [
        "#Copying files\n",
        "with open('text.txt', \"r\") as rf:\n",
        "  with open('text_copy.txt', \"w\") as wf:\n",
        "    for line in rf:\n",
        "      wf.write(line)"
      ],
      "metadata": {
        "id": "ohvgNcaJCZ5h"
      },
      "execution_count": null,
      "outputs": []
    },
    {
      "cell_type": "code",
      "source": [],
      "metadata": {
        "id": "NpjbsGF7D8sF"
      },
      "execution_count": null,
      "outputs": []
    }
  ]
}