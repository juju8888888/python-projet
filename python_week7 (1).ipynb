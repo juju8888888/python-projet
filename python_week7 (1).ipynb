{
 "cells": [
  {
   "cell_type": "code",
   "execution_count": 1,
   "id": "85766eec",
   "metadata": {},
   "outputs": [],
   "source": [
    "# 1. Import the necessary libraries\n",
    "import pandas as pd\n"
   ]
  },
  {
   "cell_type": "code",
   "execution_count": 46,
   "id": "f7b207c8",
   "metadata": {},
   "outputs": [
    {
     "name": "stdout",
     "output_type": "stream",
     "text": [
      "   Unnamed: 0     Id      Name  Year Gender State  Count\n",
      "0       11349  11350      Emma  2004      F    AK     62\n",
      "1       11350  11351   Madison  2004      F    AK     48\n",
      "2       11351  11352    Hannah  2004      F    AK     46\n",
      "3       11352  11353     Grace  2004      F    AK     44\n",
      "4       11353  11354     Emily  2004      F    AK     41\n",
      "5       11354  11355   Abigail  2004      F    AK     37\n",
      "6       11355  11356    Olivia  2004      F    AK     33\n",
      "7       11356  11357  Isabella  2004      F    AK     30\n",
      "8       11357  11358    Alyssa  2004      F    AK     29\n",
      "9       11358  11359    Sophia  2004      F    AK     28\n"
     ]
    }
   ],
   "source": [
    "# 2. Import the dataset from the given address\n",
    "\n",
    "baby_names = pd.read_csv(\"US_Baby_Names_right.csv\")\n",
    "\n",
    "# 4. See the first 10 entries\n",
    "print(baby_names.head(10))\n"
   ]
  },
  {
   "cell_type": "code",
   "execution_count": 47,
   "id": "318a8388",
   "metadata": {},
   "outputs": [],
   "source": [
    "# 5. Delete the column 'Unnamed: 0' and 'Id'\n",
    "baby_names = baby_names.drop(['Unnamed: 0', 'Id'], axis=1)\n"
   ]
  },
  {
   "cell_type": "code",
   "execution_count": 48,
   "id": "148ae822",
   "metadata": {},
   "outputs": [
    {
     "name": "stdout",
     "output_type": "stream",
     "text": [
      "More female names\n"
     ]
    }
   ],
   "source": [
    "# 6. Check if there are more male or female names\n",
    "gender_counts = baby_names['Gender'].value_counts()\n",
    "print(\"More male names\" if gender_counts['M'] > gender_counts['F'] else \"More female names\")\n"
   ]
  },
  {
   "cell_type": "code",
   "execution_count": 50,
   "id": "dd12e949",
   "metadata": {},
   "outputs": [
    {
     "name": "stdout",
     "output_type": "stream",
     "text": [
      "           Year  Count\n",
      "Name                  \n",
      "Aaban      4027     12\n",
      "Aadan      8039     23\n",
      "Aadarsh    2009      5\n",
      "Aaden    393963   3426\n",
      "Aadhav     2014      6\n"
     ]
    },
    {
     "data": {
      "text/html": [
       "<div>\n",
       "<style scoped>\n",
       "    .dataframe tbody tr th:only-of-type {\n",
       "        vertical-align: middle;\n",
       "    }\n",
       "\n",
       "    .dataframe tbody tr th {\n",
       "        vertical-align: top;\n",
       "    }\n",
       "\n",
       "    .dataframe thead th {\n",
       "        text-align: right;\n",
       "    }\n",
       "</style>\n",
       "<table border=\"1\" class=\"dataframe\">\n",
       "  <thead>\n",
       "    <tr style=\"text-align: right;\">\n",
       "      <th></th>\n",
       "      <th>Year</th>\n",
       "      <th>Count</th>\n",
       "    </tr>\n",
       "    <tr>\n",
       "      <th>Name</th>\n",
       "      <th></th>\n",
       "      <th></th>\n",
       "    </tr>\n",
       "  </thead>\n",
       "  <tbody>\n",
       "    <tr>\n",
       "      <th>Jacob</th>\n",
       "      <td>1141099</td>\n",
       "      <td>242874</td>\n",
       "    </tr>\n",
       "    <tr>\n",
       "      <th>Emma</th>\n",
       "      <td>1137085</td>\n",
       "      <td>214852</td>\n",
       "    </tr>\n",
       "    <tr>\n",
       "      <th>Michael</th>\n",
       "      <td>1161152</td>\n",
       "      <td>214405</td>\n",
       "    </tr>\n",
       "    <tr>\n",
       "      <th>Ethan</th>\n",
       "      <td>1139091</td>\n",
       "      <td>209277</td>\n",
       "    </tr>\n",
       "    <tr>\n",
       "      <th>Isabella</th>\n",
       "      <td>1137090</td>\n",
       "      <td>204798</td>\n",
       "    </tr>\n",
       "  </tbody>\n",
       "</table>\n",
       "</div>"
      ],
      "text/plain": [
       "             Year   Count\n",
       "Name                     \n",
       "Jacob     1141099  242874\n",
       "Emma      1137085  214852\n",
       "Michael   1161152  214405\n",
       "Ethan     1139091  209277\n",
       "Isabella  1137090  204798"
      ]
     },
     "execution_count": 50,
     "metadata": {},
     "output_type": "execute_result"
    }
   ],
   "source": [
    "# 7. Group the dataset by name and assign to names\n",
    "#baby_names = baby_names.drop('Year', axis = 1)\n",
    "names = baby_names.groupby('Name').sum()\n",
    "print(names.head())\n",
    "# sort it from the biggest value to the smallest one\n",
    "names.sort_values(\"Count\", ascending = 0).head()"
   ]
  },
  {
   "cell_type": "code",
   "execution_count": 44,
   "id": "3ce9c8c5",
   "metadata": {},
   "outputs": [
    {
     "name": "stdout",
     "output_type": "stream",
     "text": [
      "There are 17632 different names in the dataset.\n"
     ]
    }
   ],
   "source": [
    "# 8. How many different names exist in the dataset?\n",
    "num_unique_names = baby_names['Name'].nunique()\n",
    "print(f\"There are {num_unique_names} different names in the dataset.\")\n"
   ]
  },
  {
   "cell_type": "code",
   "execution_count": 54,
   "id": "e230011f",
   "metadata": {},
   "outputs": [
    {
     "data": {
      "text/html": [
       "<div>\n",
       "<style scoped>\n",
       "    .dataframe tbody tr th:only-of-type {\n",
       "        vertical-align: middle;\n",
       "    }\n",
       "\n",
       "    .dataframe tbody tr th {\n",
       "        vertical-align: top;\n",
       "    }\n",
       "\n",
       "    .dataframe thead th {\n",
       "        text-align: right;\n",
       "    }\n",
       "</style>\n",
       "<table border=\"1\" class=\"dataframe\">\n",
       "  <thead>\n",
       "    <tr style=\"text-align: right;\">\n",
       "      <th></th>\n",
       "      <th>Year</th>\n",
       "      <th>Count</th>\n",
       "    </tr>\n",
       "    <tr>\n",
       "      <th>Name</th>\n",
       "      <th></th>\n",
       "      <th></th>\n",
       "    </tr>\n",
       "  </thead>\n",
       "  <tbody>\n",
       "    <tr>\n",
       "      <th>Jacob</th>\n",
       "      <td>1141099</td>\n",
       "      <td>242874</td>\n",
       "    </tr>\n",
       "  </tbody>\n",
       "</table>\n",
       "</div>"
      ],
      "text/plain": [
       "          Year   Count\n",
       "Name                  \n",
       "Jacob  1141099  242874"
      ]
     },
     "execution_count": 54,
     "metadata": {},
     "output_type": "execute_result"
    }
   ],
   "source": [
    "# 9. What is the name with the most occurrences?\n",
    "names[names.Count == names.Count.max()]\n",
    "\n"
   ]
  },
  {
   "cell_type": "code",
   "execution_count": 53,
   "id": "0de1541f",
   "metadata": {},
   "outputs": [
    {
     "name": "stdout",
     "output_type": "stream",
     "text": [
      "There are 2578 different names with the least occurrences, e.g.,           Year  Count\n",
      "Name                 \n",
      "Aadarsh   2009      5\n",
      "Aadin     2008      5\n",
      "Aaima     2013      5\n",
      "Aalaya    2014      5\n",
      "Aaminah   2004      5\n",
      "...        ...    ...\n",
      "Zyien     2009      5\n",
      "Zyire     2007      5\n",
      "Zykeriah  2008      5\n",
      "Zykierra  2007      5\n",
      "Zymari    2009      5\n",
      "\n",
      "[2578 rows x 2 columns].\n"
     ]
    }
   ],
   "source": [
    "# 10. How many different names have the least occurrences?\n",
    "least_occurred_names = names[names.Count == names.Count.min()]\n",
    "num_least_occurred_names = len(names[names.Count == names.Count.min()])\n",
    "print(f\"There are {num_least_occurred_names} different names with the least occurrences, e.g., {least_occurred_names}.\")\n"
   ]
  },
  {
   "cell_type": "code",
   "execution_count": 55,
   "id": "af21da2d",
   "metadata": {},
   "outputs": [
    {
     "name": "stdout",
     "output_type": "stream",
     "text": [
      "The median name occurrence is: 49.0\n"
     ]
    }
   ],
   "source": [
    "# 11. What is the median name occurrence?\n",
    "median_occurrence = names.Count.median()\n",
    "print(f\"The median name occurrence is: {median_occurrence}\")\n"
   ]
  },
  {
   "cell_type": "code",
   "execution_count": 51,
   "id": "68089e56",
   "metadata": {},
   "outputs": [
    {
     "name": "stdout",
     "output_type": "stream",
     "text": [
      "The standard deviation of name occurrences is: 11006.069467891111\n"
     ]
    }
   ],
   "source": [
    "# 12. What is the standard deviation of names?\n",
    "std_dev_occurrence = names.Count.std()\n",
    "print(f\"The standard deviation of name occurrences is: {std_dev_occurrence}\")\n"
   ]
  },
  {
   "cell_type": "code",
   "execution_count": 52,
   "id": "f2745e2e",
   "metadata": {},
   "outputs": [
    {
     "name": "stdout",
     "output_type": "stream",
     "text": [
      "\n",
      "Summary Statistics:\n",
      "count     17632.000000\n",
      "mean       2008.932169\n",
      "std       11006.069468\n",
      "min           5.000000\n",
      "25%          11.000000\n",
      "50%          49.000000\n",
      "75%         337.000000\n",
      "max      242874.000000\n",
      "Name: Count, dtype: float64\n"
     ]
    }
   ],
   "source": [
    "# 13. Get a summary with the mean, min, max, std, and quartiles.\n",
    "summary = names.Count.describe()\n",
    "print(\"\\nSummary Statistics:\")\n",
    "print(summary)"
   ]
  },
  {
   "cell_type": "code",
   "execution_count": 58,
   "id": "86b8c3bb",
   "metadata": {},
   "outputs": [],
   "source": [
    "#Exercice 2 \n",
    "# Import the dataset from the given address\n",
    "euro12 = pd.read_csv(\"Euro_2012_stats_TEAM.csv\")\n"
   ]
  },
  {
   "cell_type": "code",
   "execution_count": 68,
   "id": "78088370",
   "metadata": {},
   "outputs": [
    {
     "name": "stdout",
     "output_type": "stream",
     "text": [
      "0      4\n",
      "1      4\n",
      "2      4\n",
      "3      5\n",
      "4      3\n",
      "5     10\n",
      "6      5\n",
      "7      6\n",
      "8      2\n",
      "9      2\n",
      "10     6\n",
      "11     1\n",
      "12     5\n",
      "13    12\n",
      "14     5\n",
      "15     2\n",
      "Name: Goals, dtype: int64\n"
     ]
    }
   ],
   "source": [
    "# select the goal column\n",
    "\n",
    "goals = euro12['Goals']\n",
    "print(goals)"
   ]
  },
  {
   "cell_type": "code",
   "execution_count": 69,
   "id": "86d6dee8",
   "metadata": {},
   "outputs": [
    {
     "name": "stdout",
     "output_type": "stream",
     "text": [
      "<bound method IndexOpsMixin.nunique of 0                 Croatia\n",
      "1          Czech Republic\n",
      "2                 Denmark\n",
      "3                 England\n",
      "4                  France\n",
      "5                 Germany\n",
      "6                  Greece\n",
      "7                   Italy\n",
      "8             Netherlands\n",
      "9                  Poland\n",
      "10               Portugal\n",
      "11    Republic of Ireland\n",
      "12                 Russia\n",
      "13                  Spain\n",
      "14                 Sweden\n",
      "15                Ukraine\n",
      "Name: Team, dtype: object>\n"
     ]
    },
    {
     "data": {
      "text/plain": [
       "16"
      ]
     },
     "execution_count": 69,
     "metadata": {},
     "output_type": "execute_result"
    }
   ],
   "source": [
    "# How many teams participated in 2012\n",
    "\n",
    "Teams = euro12['Team'].nunique\n",
    "print(Teams)\n",
    "len(euro12.Team.unique())"
   ]
  },
  {
   "cell_type": "code",
   "execution_count": 70,
   "id": "763d2acb",
   "metadata": {},
   "outputs": [
    {
     "data": {
      "text/plain": [
       "(16, 35)"
      ]
     },
     "execution_count": 70,
     "metadata": {},
     "output_type": "execute_result"
    }
   ],
   "source": [
    "# What is the number of columns in the dataset\n",
    "euro12.shape"
   ]
  },
  {
   "cell_type": "code",
   "execution_count": 72,
   "id": "7393af01",
   "metadata": {},
   "outputs": [],
   "source": [
    "# View only the columns, Team, Yellow Cards and Red Cards\n",
    "discipline = euro12[['Team','Yellow Cards', 'Red Cards']]"
   ]
  },
  {
   "cell_type": "code",
   "execution_count": 73,
   "id": "f72398a7",
   "metadata": {},
   "outputs": [
    {
     "name": "stdout",
     "output_type": "stream",
     "text": [
      "                   Team  Yellow Cards  Red Cards\n",
      "0               Croatia             9          0\n",
      "1        Czech Republic             7          0\n",
      "2               Denmark             4          0\n",
      "3               England             5          0\n",
      "4                France             6          0\n",
      "5               Germany             4          0\n",
      "6                Greece             9          1\n",
      "7                 Italy            16          0\n",
      "8           Netherlands             5          0\n",
      "9                Poland             7          1\n",
      "10             Portugal            12          0\n",
      "11  Republic of Ireland             6          1\n",
      "12               Russia             6          0\n",
      "13                Spain            11          0\n",
      "14               Sweden             7          0\n",
      "15              Ukraine             5          0\n"
     ]
    }
   ],
   "source": [
    "print(discipline)"
   ]
  },
  {
   "cell_type": "code",
   "execution_count": 74,
   "id": "10093174",
   "metadata": {},
   "outputs": [
    {
     "data": {
      "text/plain": [
       "7.4375"
      ]
     },
     "execution_count": 74,
     "metadata": {},
     "output_type": "execute_result"
    }
   ],
   "source": [
    "discipline['Yellow Cards'].mean()"
   ]
  },
  {
   "cell_type": "code",
   "execution_count": 78,
   "id": "32b2bd88",
   "metadata": {},
   "outputs": [
    {
     "name": "stdout",
     "output_type": "stream",
     "text": [
      "                   Team  Yellow Cards  Red Cards\n",
      "6                Greece             9          1\n",
      "9                Poland             7          1\n",
      "11  Republic of Ireland             6          1\n",
      "7                 Italy            16          0\n",
      "10             Portugal            12          0\n",
      "13                Spain            11          0\n",
      "0               Croatia             9          0\n",
      "1        Czech Republic             7          0\n",
      "14               Sweden             7          0\n",
      "4                France             6          0\n",
      "12               Russia             6          0\n",
      "3               England             5          0\n",
      "8           Netherlands             5          0\n",
      "15              Ukraine             5          0\n",
      "2               Denmark             4          0\n",
      "5               Germany             4          0\n"
     ]
    }
   ],
   "source": [
    "# Sort the team by Red Cards, then to Yellow cards\n",
    "discipline_sorted = discipline.sort_values(by=['Red Cards', 'Yellow Cards'], ascending=False)\n",
    "print(discipline_sorted)"
   ]
  },
  {
   "cell_type": "code",
   "execution_count": 83,
   "id": "d17c15d5",
   "metadata": {},
   "outputs": [
    {
     "name": "stdout",
     "output_type": "stream",
     "text": [
      "                   Team  Yellow Cards  Red Cards\n",
      "7                 Italy            16          0\n",
      "10             Portugal            12          0\n",
      "13                Spain            11          0\n",
      "0               Croatia             9          0\n",
      "6                Greece             9          1\n",
      "1        Czech Republic             7          0\n",
      "9                Poland             7          1\n",
      "14               Sweden             7          0\n",
      "4                France             6          0\n",
      "11  Republic of Ireland             6          1\n",
      "12               Russia             6          0\n",
      "3               England             5          0\n",
      "8           Netherlands             5          0\n",
      "15              Ukraine             5          0\n",
      "2               Denmark             4          0\n",
      "5               Germany             4          0\n",
      "                   Team  Yellow Cards  Red Cards\n",
      "6                Greece             9          1\n",
      "9                Poland             7          1\n",
      "11  Republic of Ireland             6          1\n",
      "0               Croatia             9          0\n",
      "1        Czech Republic             7          0\n",
      "2               Denmark             4          0\n",
      "3               England             5          0\n",
      "4                France             6          0\n",
      "5               Germany             4          0\n",
      "7                 Italy            16          0\n",
      "8           Netherlands             5          0\n",
      "10             Portugal            12          0\n",
      "12               Russia             6          0\n",
      "13                Spain            11          0\n",
      "14               Sweden             7          0\n",
      "15              Ukraine             5          0\n"
     ]
    }
   ],
   "source": [
    "discipline_sorted = discipline.sort_values(by=['Yellow Cards'], ascending=False)\n",
    "discipline_sorted1 = discipline.sort_values(by=['Red Cards'], ascending=False)\n",
    "print(discipline_sorted)\n",
    "print(discipline_sorted1)"
   ]
  },
  {
   "cell_type": "code",
   "execution_count": 84,
   "id": "9da672a7",
   "metadata": {},
   "outputs": [
    {
     "data": {
      "text/plain": [
       "7.4375"
      ]
     },
     "execution_count": 84,
     "metadata": {},
     "output_type": "execute_result"
    }
   ],
   "source": [
    "discipline[\"Yellow Cards\"].mean()"
   ]
  },
  {
   "cell_type": "code",
   "execution_count": 87,
   "id": "34b5140e",
   "metadata": {},
   "outputs": [
    {
     "data": {
      "text/plain": [
       "0      4\n",
       "1      4\n",
       "2      4\n",
       "3      5\n",
       "4      3\n",
       "5     10\n",
       "6      5\n",
       "7      6\n",
       "8      2\n",
       "9      2\n",
       "10     6\n",
       "11     1\n",
       "12     5\n",
       "13    12\n",
       "14     5\n",
       "15     2\n",
       "Name: Goals, dtype: int64"
      ]
     },
     "execution_count": 87,
     "metadata": {},
     "output_type": "execute_result"
    }
   ],
   "source": [
    "euro12['Goals']"
   ]
  },
  {
   "cell_type": "code",
   "execution_count": 91,
   "id": "7de161ef",
   "metadata": {},
   "outputs": [],
   "source": [
    "def calc_goals(x):\n",
    "    if x >=6:\n",
    "        return x"
   ]
  },
  {
   "cell_type": "code",
   "execution_count": 94,
   "id": "cc2501f6",
   "metadata": {},
   "outputs": [
    {
     "name": "stdout",
     "output_type": "stream",
     "text": [
      "0      NaN\n",
      "1      NaN\n",
      "2      NaN\n",
      "3      NaN\n",
      "4      NaN\n",
      "5     10.0\n",
      "6      NaN\n",
      "7      6.0\n",
      "8      NaN\n",
      "9      NaN\n",
      "10     6.0\n",
      "11     NaN\n",
      "12     NaN\n",
      "13    12.0\n",
      "14     NaN\n",
      "15     NaN\n",
      "Name: Goals, dtype: float64\n"
     ]
    }
   ],
   "source": [
    "x = euro12['Goals'].apply(calc_goals)\n",
    "print(x)"
   ]
  },
  {
   "cell_type": "code",
   "execution_count": 96,
   "id": "92092caa",
   "metadata": {},
   "outputs": [
    {
     "data": {
      "text/plain": [
       "0     False\n",
       "1     False\n",
       "2     False\n",
       "3     False\n",
       "4     False\n",
       "5      True\n",
       "6     False\n",
       "7      True\n",
       "8     False\n",
       "9     False\n",
       "10     True\n",
       "11    False\n",
       "12    False\n",
       "13     True\n",
       "14    False\n",
       "15    False\n",
       "Name: Goals, dtype: bool"
      ]
     },
     "execution_count": 96,
     "metadata": {},
     "output_type": "execute_result"
    }
   ],
   "source": [
    "goals>=6"
   ]
  },
  {
   "cell_type": "code",
   "execution_count": 98,
   "id": "f2b35420",
   "metadata": {},
   "outputs": [
    {
     "name": "stdout",
     "output_type": "stream",
     "text": [
      "      Team  Goals  Shots on target  Shots off target Shooting Accuracy  \\\n",
      "5  Germany     10               32                32             47.8%   \n",
      "6   Greece      5                8                18             30.7%   \n",
      "\n",
      "  % Goals-to-shots  Total shots (inc. Blocked)  Hit Woodwork  Penalty goals  \\\n",
      "5            15.6%                          80             2              1   \n",
      "6            19.2%                          32             1              1   \n",
      "\n",
      "   Penalties not scored  ...  Saves made  Saves-to-shots ratio  Fouls Won  \\\n",
      "5                     0  ...          10                 62.6%         63   \n",
      "6                     1  ...          13                 65.1%         67   \n",
      "\n",
      "  Fouls Conceded  Offsides  Yellow Cards  Red Cards  Subs on  Subs off  \\\n",
      "5             49        12             4          0       15        15   \n",
      "6             48        12             9          1       12        12   \n",
      "\n",
      "   Players Used  \n",
      "5            17  \n",
      "6            20  \n",
      "\n",
      "[2 rows x 35 columns]\n"
     ]
    }
   ],
   "source": [
    "#Select the team that start with G\n",
    "teams_starting_with_G = euro12[euro12['Team'].str.startswith('G')]\n",
    "print(teams_starting_with_G)"
   ]
  },
  {
   "cell_type": "code",
   "execution_count": 102,
   "id": "c48324eb",
   "metadata": {},
   "outputs": [
    {
     "name": "stdout",
     "output_type": "stream",
     "text": [
      "                   Team  Goals  Shots on target  Shots off target  \\\n",
      "0               Croatia      4               13                12   \n",
      "1        Czech Republic      4               13                18   \n",
      "2               Denmark      4               10                10   \n",
      "3               England      5               11                18   \n",
      "4                France      3               22                24   \n",
      "5               Germany     10               32                32   \n",
      "6                Greece      5                8                18   \n",
      "7                 Italy      6               34                45   \n",
      "8           Netherlands      2               12                36   \n",
      "9                Poland      2               15                23   \n",
      "10             Portugal      6               22                42   \n",
      "11  Republic of Ireland      1                7                12   \n",
      "12               Russia      5                9                31   \n",
      "13                Spain     12               42                33   \n",
      "14               Sweden      5               17                19   \n",
      "15              Ukraine      2                7                26   \n",
      "\n",
      "   Shooting Accuracy % Goals-to-shots  Total shots (inc. Blocked)  \n",
      "0              51.9%            16.0%                          32  \n",
      "1              41.9%            12.9%                          39  \n",
      "2              50.0%            20.0%                          27  \n",
      "3              50.0%            17.2%                          40  \n",
      "4              37.9%             6.5%                          65  \n",
      "5              47.8%            15.6%                          80  \n",
      "6              30.7%            19.2%                          32  \n",
      "7              43.0%             7.5%                         110  \n",
      "8              25.0%             4.1%                          60  \n",
      "9              39.4%             5.2%                          48  \n",
      "10             34.3%             9.3%                          82  \n",
      "11             36.8%             5.2%                          28  \n",
      "12             22.5%            12.5%                          59  \n",
      "13             55.9%            16.0%                         100  \n",
      "14             47.2%            13.8%                          39  \n",
      "15             21.2%             6.0%                          38  \n"
     ]
    }
   ],
   "source": [
    "# Step 12. Select the first 7 columns\n",
    "first_seven_columns = euro12.iloc[:, :7]\n",
    "print(first_seven_columns)"
   ]
  },
  {
   "cell_type": "code",
   "execution_count": 104,
   "id": "89799292",
   "metadata": {},
   "outputs": [
    {
     "name": "stdout",
     "output_type": "stream",
     "text": [
      "                   Team  Goals  Shots on target  Shots off target  \\\n",
      "0               Croatia      4               13                12   \n",
      "1        Czech Republic      4               13                18   \n",
      "2               Denmark      4               10                10   \n",
      "3               England      5               11                18   \n",
      "4                France      3               22                24   \n",
      "5               Germany     10               32                32   \n",
      "6                Greece      5                8                18   \n",
      "7                 Italy      6               34                45   \n",
      "8           Netherlands      2               12                36   \n",
      "9                Poland      2               15                23   \n",
      "10             Portugal      6               22                42   \n",
      "11  Republic of Ireland      1                7                12   \n",
      "12               Russia      5                9                31   \n",
      "13                Spain     12               42                33   \n",
      "14               Sweden      5               17                19   \n",
      "15              Ukraine      2                7                26   \n",
      "\n",
      "   Shooting Accuracy % Goals-to-shots  Total shots (inc. Blocked)  \\\n",
      "0              51.9%            16.0%                          32   \n",
      "1              41.9%            12.9%                          39   \n",
      "2              50.0%            20.0%                          27   \n",
      "3              50.0%            17.2%                          40   \n",
      "4              37.9%             6.5%                          65   \n",
      "5              47.8%            15.6%                          80   \n",
      "6              30.7%            19.2%                          32   \n",
      "7              43.0%             7.5%                         110   \n",
      "8              25.0%             4.1%                          60   \n",
      "9              39.4%             5.2%                          48   \n",
      "10             34.3%             9.3%                          82   \n",
      "11             36.8%             5.2%                          28   \n",
      "12             22.5%            12.5%                          59   \n",
      "13             55.9%            16.0%                         100   \n",
      "14             47.2%            13.8%                          39   \n",
      "15             21.2%             6.0%                          38   \n",
      "\n",
      "    Hit Woodwork  Penalty goals  Penalties not scored  ...  Clean Sheets  \\\n",
      "0              0              0                     0  ...             0   \n",
      "1              0              0                     0  ...             1   \n",
      "2              1              0                     0  ...             1   \n",
      "3              0              0                     0  ...             2   \n",
      "4              1              0                     0  ...             1   \n",
      "5              2              1                     0  ...             1   \n",
      "6              1              1                     1  ...             1   \n",
      "7              2              0                     0  ...             2   \n",
      "8              2              0                     0  ...             0   \n",
      "9              0              0                     0  ...             0   \n",
      "10             6              0                     0  ...             2   \n",
      "11             0              0                     0  ...             0   \n",
      "12             2              0                     0  ...             0   \n",
      "13             0              1                     0  ...             5   \n",
      "14             3              0                     0  ...             1   \n",
      "15             0              0                     0  ...             0   \n",
      "\n",
      "    Blocks  Goals conceded Saves made  Saves-to-shots ratio  Fouls Won  \\\n",
      "0       10               3         13                 81.3%         41   \n",
      "1       10               6          9                 60.1%         53   \n",
      "2       10               5         10                 66.7%         25   \n",
      "3       29               3         22                 88.1%         43   \n",
      "4        7               5          6                 54.6%         36   \n",
      "5       11               6         10                 62.6%         63   \n",
      "6       23               7         13                 65.1%         67   \n",
      "7       18               7         20                 74.1%        101   \n",
      "8        9               5         12                 70.6%         35   \n",
      "9        8               3          6                 66.7%         48   \n",
      "10      11               4         10                 71.5%         73   \n",
      "11      23               9         17                 65.4%         43   \n",
      "12       8               3         10                 77.0%         34   \n",
      "13       8               1         15                 93.8%        102   \n",
      "14      12               5          8                 61.6%         35   \n",
      "15       4               4         13                 76.5%         48   \n",
      "\n",
      "    Fouls Conceded  Offsides  Yellow Cards  Red Cards  \n",
      "0               62         2             9          0  \n",
      "1               73         8             7          0  \n",
      "2               38         8             4          0  \n",
      "3               45         6             5          0  \n",
      "4               51         5             6          0  \n",
      "5               49        12             4          0  \n",
      "6               48        12             9          1  \n",
      "7               89        16            16          0  \n",
      "8               30         3             5          0  \n",
      "9               56         3             7          1  \n",
      "10              90        10            12          0  \n",
      "11              51        11             6          1  \n",
      "12              43         4             6          0  \n",
      "13              83        19            11          0  \n",
      "14              51         7             7          0  \n",
      "15              31         4             5          0  \n",
      "\n",
      "[16 rows x 32 columns]\n"
     ]
    }
   ],
   "source": [
    "# Step 13. Select all columns except the last 3\n",
    "all_columns_except_last_three = euro12.iloc[:, :-3]\n",
    "print(all_columns_except_last_three)"
   ]
  },
  {
   "cell_type": "code",
   "execution_count": null,
   "id": "eb156f7d",
   "metadata": {},
   "outputs": [],
   "source": [
    "# Step 14. Present only the Shooting Accuracy from England, Italy, and Russia\n",
    "shooting_accuracy_selected_teams = euro12.loc[euro12['Team'].isin(['England', 'Italy', 'Russia']), ['Team', 'Shooting Accuracy']]\n"
   ]
  }
 ],
 "metadata": {
  "kernelspec": {
   "display_name": "Python 3 (ipykernel)",
   "language": "python",
   "name": "python3"
  },
  "language_info": {
   "codemirror_mode": {
    "name": "ipython",
    "version": 3
   },
   "file_extension": ".py",
   "mimetype": "text/x-python",
   "name": "python",
   "nbconvert_exporter": "python",
   "pygments_lexer": "ipython3",
   "version": "3.9.13"
  }
 },
 "nbformat": 4,
 "nbformat_minor": 5
}
