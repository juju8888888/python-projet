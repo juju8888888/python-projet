{
 "cells": [
  {
   "cell_type": "code",
   "execution_count": 1,
   "id": "20b99306",
   "metadata": {},
   "outputs": [],
   "source": [
    "import pandas as pd"
   ]
  },
  {
   "cell_type": "code",
   "execution_count": 4,
   "id": "02155008",
   "metadata": {},
   "outputs": [],
   "source": [
    "drinks = pd.read_csv(\"drinks.csv\")"
   ]
  },
  {
   "cell_type": "code",
   "execution_count": 7,
   "id": "6f59248a",
   "metadata": {},
   "outputs": [
    {
     "name": "stdout",
     "output_type": "stream",
     "text": [
      "The continent that drinks more beer on average is: EU\n"
     ]
    }
   ],
   "source": [
    "beer_avg_continent = drinks.groupby('continent')['beer_servings'].mean()\n",
    "continent_most_beer = beer_avg_continent.idxmax()\n",
    "print(f\"The continent that drinks more beer on average is: {continent_most_beer}\")\n"
   ]
  },
  {
   "cell_type": "code",
   "execution_count": 8,
   "id": "607c25ff",
   "metadata": {},
   "outputs": [
    {
     "name": "stdout",
     "output_type": "stream",
     "text": [
      "Statistics for wine consumption by continent:\n",
      "            count        mean        std  min   25%    50%     75%    max\n",
      "continent                                                               \n",
      "AF          53.0   16.264151  38.846419  0.0   1.0    2.0   13.00  233.0\n",
      "AS          44.0    9.068182  21.667034  0.0   0.0    1.0    8.00  123.0\n",
      "EU          45.0  142.222222  97.421738  0.0  59.0  128.0  195.00  370.0\n",
      "OC          16.0   35.625000  64.555790  0.0   1.0    8.5   23.25  212.0\n",
      "SA          12.0   62.416667  88.620189  1.0   3.0   12.0   98.50  221.0\n"
     ]
    }
   ],
   "source": [
    "# Step 5. For each continent, print the statistics for wine consumption.\n",
    "wine_stats_by_continent = drinks.groupby('continent')['wine_servings'].describe()\n",
    "print(\"Statistics for wine consumption by continent:\\n\", wine_stats_by_continent)\n"
   ]
  },
  {
   "cell_type": "code",
   "execution_count": 9,
   "id": "98dae283",
   "metadata": {},
   "outputs": [
    {
     "name": "stdout",
     "output_type": "stream",
     "text": [
      "Mean alcohol consumption per continent:\n",
      "            beer_servings  spirit_servings  wine_servings  \\\n",
      "continent                                                  \n",
      "AF             61.471698        16.339623      16.264151   \n",
      "AS             37.045455        60.840909       9.068182   \n",
      "EU            193.777778       132.555556     142.222222   \n",
      "OC             89.687500        58.437500      35.625000   \n",
      "SA            175.083333       114.750000      62.416667   \n",
      "\n",
      "           total_litres_of_pure_alcohol  \n",
      "continent                                \n",
      "AF                             3.007547  \n",
      "AS                             2.170455  \n",
      "EU                             8.617778  \n",
      "OC                             3.381250  \n",
      "SA                             6.308333  \n"
     ]
    }
   ],
   "source": [
    "# Step 6. Print the mean alcohol consumption per continent for every column\n",
    "mean_alcohol_by_continent = drinks.groupby('continent').mean()\n",
    "print(\"Mean alcohol consumption per continent:\\n\", mean_alcohol_by_continent)\n"
   ]
  },
  {
   "cell_type": "code",
   "execution_count": 10,
   "id": "a7f570e4",
   "metadata": {},
   "outputs": [
    {
     "name": "stdout",
     "output_type": "stream",
     "text": [
      "Median alcohol consumption per continent:\n",
      "            beer_servings  spirit_servings  wine_servings  \\\n",
      "continent                                                  \n",
      "AF                  32.0              3.0            2.0   \n",
      "AS                  17.5             16.0            1.0   \n",
      "EU                 219.0            122.0          128.0   \n",
      "OC                  52.5             37.0            8.5   \n",
      "SA                 162.5            108.5           12.0   \n",
      "\n",
      "           total_litres_of_pure_alcohol  \n",
      "continent                                \n",
      "AF                                 2.30  \n",
      "AS                                 1.20  \n",
      "EU                                10.00  \n",
      "OC                                 1.75  \n",
      "SA                                 6.85  \n"
     ]
    }
   ],
   "source": [
    "# Step 7. Print the median alcohol consumption per continent for every column\n",
    "median_alcohol_by_continent = drinks.groupby('continent').median()\n",
    "print(\"Median alcohol consumption per continent:\\n\", median_alcohol_by_continent)\n"
   ]
  },
  {
   "cell_type": "code",
   "execution_count": null,
   "id": "e08317ae",
   "metadata": {},
   "outputs": [],
   "source": []
  }
 ],
 "metadata": {
  "kernelspec": {
   "display_name": "Python 3 (ipykernel)",
   "language": "python",
   "name": "python3"
  },
  "language_info": {
   "codemirror_mode": {
    "name": "ipython",
    "version": 3
   },
   "file_extension": ".py",
   "mimetype": "text/x-python",
   "name": "python",
   "nbconvert_exporter": "python",
   "pygments_lexer": "ipython3",
   "version": "3.9.13"
  }
 },
 "nbformat": 4,
 "nbformat_minor": 5
}
