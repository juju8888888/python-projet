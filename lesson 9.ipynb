{
  "nbformat": 4,
  "nbformat_minor": 0,
  "metadata": {
    "colab": {
      "provenance": [],
      "authorship_tag": "ABX9TyOyVH38gGpFuoPKD/uVKlHG",
      "include_colab_link": true
    },
    "kernelspec": {
      "name": "python3",
      "display_name": "Python 3"
    },
    "language_info": {
      "name": "python"
    }
  },
  "cells": [
    {
      "cell_type": "markdown",
      "metadata": {
        "id": "view-in-github",
        "colab_type": "text"
      },
      "source": [
        "<a href=\"https://colab.research.google.com/github/Romane-lrnt/GitConcepts/blob/main/Cours9.ipynb\" target=\"_parent\"><img src=\"https://colab.research.google.com/assets/colab-badge.svg\" alt=\"Open In Colab\"/></a>"
      ]
    },
    {
      "cell_type": "code",
      "execution_count": null,
      "metadata": {
        "colab": {
          "base_uri": "https://localhost:8080/"
        },
        "id": "8LwbOY8KZpAw",
        "outputId": "0e45ca95-6874-4029-be77-38dc770d3b4f"
      },
      "outputs": [
        {
          "output_type": "stream",
          "name": "stdout",
          "text": [
            "5\n"
          ]
        }
      ],
      "source": [
        "def max(a,b):\n",
        "  if a>b:\n",
        "    print(a)\n",
        "  else:\n",
        "    print(b)\n",
        "\n",
        "max(2,5)"
      ]
    },
    {
      "cell_type": "code",
      "source": [
        "def listnum(a,b,c,d,e):\n",
        "  lnum=[a,b,c,d,e]\n",
        "  max=0\n",
        "  min=100\n",
        "  for i in range(len(lnum)):\n",
        "    if lnum[i] > max:\n",
        "      max=lnum[i]\n",
        "  for j in range(len(lnum)):\n",
        "    if lnum[j] < min:\n",
        "      min=lnum[j]\n",
        "  print(\"The minimum is {}\".format(min))\n",
        "  print(\"The maximum is {}\".format(max))\n",
        "\n",
        "listnum(9,2,5,10,1)"
      ],
      "metadata": {
        "colab": {
          "base_uri": "https://localhost:8080/"
        },
        "id": "FY1OenncjP4z",
        "outputId": "2a50a873-be5f-4fef-e1f8-2896a8d473c9"
      },
      "execution_count": null,
      "outputs": [
        {
          "output_type": "stream",
          "name": "stdout",
          "text": [
            "The minimum is 1\n",
            "The maximum is 10\n"
          ]
        }
      ]
    },
    {
      "cell_type": "code",
      "source": [
        "try:\n",
        "  num=int(input(\"Enter a number: \"))\n",
        "except ValueError as e:\n",
        "  print(e )\n",
        "if (num%2)==0:\n",
        "  print(\"{0} is Even\".format(num))\n",
        "else:\n",
        "  print(\"{0} is Odd\".format(num))"
      ],
      "metadata": {
        "colab": {
          "base_uri": "https://localhost:8080/"
        },
        "id": "Li55UuF4nooL",
        "outputId": "d2f48660-215b-4546-e01a-b2cb20b22873"
      },
      "execution_count": null,
      "outputs": [
        {
          "output_type": "stream",
          "name": "stdout",
          "text": [
            "Enter a number: kugiu\n",
            "invalid literal for int() with base 10: 'kugiu'\n",
            "6 is Even\n"
          ]
        }
      ]
    },
    {
      "cell_type": "code",
      "source": [
        "while True:\n",
        "  try:\n",
        "    num=int(input(\"Enter a number: \"))\n",
        "    if (num%2)==0:\n",
        "       print(\"{0} is Even\".format(num))\n",
        "       break\n",
        "    else:\n",
        "      print(\"{0} is Odd\".format(num))\n",
        "      break\n",
        "  except ValueError as e:\n",
        "    print(e)"
      ],
      "metadata": {
        "colab": {
          "base_uri": "https://localhost:8080/"
        },
        "id": "zv_ehBydyjKG",
        "outputId": "6ae82af7-c630-4d7f-dc58-ef59869a18a4"
      },
      "execution_count": null,
      "outputs": [
        {
          "output_type": "stream",
          "name": "stdout",
          "text": [
            "Enter a number: 11.2\n",
            "invalid literal for int() with base 10: '11.2'\n",
            "Enter a number: ihez\n",
            "invalid literal for int() with base 10: 'ihez'\n",
            "Enter a number: 5\n",
            "5 is Odd\n"
          ]
        }
      ]
    },
    {
      "cell_type": "code",
      "source": [
        "while True:\n",
        "  try:\n",
        "    num=int(input(\"Enter a number: \"))\n",
        "    if num <= 1:\n",
        "        raise ValueError(\"entred number is not valid\")\n",
        "    result=False\n",
        "    for i in range(2, num):\n",
        "      if num%i==0:\n",
        "        result=True\n",
        "    if result:\n",
        "       print(\"{} is not a prime number\".format(num))\n",
        "       break\n",
        "    else:\n",
        "      print(\"{} is a prime number\".format(num))\n",
        "      break\n",
        "  except ValueError as e:\n",
        "    print(e)"
      ],
      "metadata": {
        "id": "jmWO-zvP5CLQ"
      },
      "execution_count": null,
      "outputs": []
    }
  ]
}